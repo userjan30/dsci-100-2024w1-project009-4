{
 "cells": [
  {
   "cell_type": "code",
   "execution_count": null,
   "id": "27ce504f-aa7c-4374-96c3-400ca91948b0",
   "metadata": {},
   "outputs": [],
   "source": [
    "WHATTUPP"
   ]
  },
  {
   "cell_type": "markdown",
   "id": "f0ab3270-a588-49d0-b296-265a120e1ee6",
   "metadata": {},
   "source": [
    "hi guys"
   ]
  },
  {
   "cell_type": "code",
   "execution_count": 3,
   "id": "ac228cc5-6a0a-4bff-ad1f-daf496f27054",
   "metadata": {},
   "outputs": [
    {
     "name": "stderr",
     "output_type": "stream",
     "text": [
      "── \u001b[1mAttaching core tidyverse packages\u001b[22m ──────────────────────── tidyverse 2.0.0 ──\n",
      "\u001b[32m✔\u001b[39m \u001b[34mdplyr    \u001b[39m 1.1.4     \u001b[32m✔\u001b[39m \u001b[34mreadr    \u001b[39m 2.1.5\n",
      "\u001b[32m✔\u001b[39m \u001b[34mforcats  \u001b[39m 1.0.0     \u001b[32m✔\u001b[39m \u001b[34mstringr  \u001b[39m 1.5.1\n",
      "\u001b[32m✔\u001b[39m \u001b[34mggplot2  \u001b[39m 3.5.1     \u001b[32m✔\u001b[39m \u001b[34mtibble   \u001b[39m 3.2.1\n",
      "\u001b[32m✔\u001b[39m \u001b[34mlubridate\u001b[39m 1.9.3     \u001b[32m✔\u001b[39m \u001b[34mtidyr    \u001b[39m 1.3.1\n",
      "\u001b[32m✔\u001b[39m \u001b[34mpurrr    \u001b[39m 1.0.2     \n",
      "── \u001b[1mConflicts\u001b[22m ────────────────────────────────────────── tidyverse_conflicts() ──\n",
      "\u001b[31m✖\u001b[39m \u001b[34mdplyr\u001b[39m::\u001b[32mfilter()\u001b[39m masks \u001b[34mstats\u001b[39m::filter()\n",
      "\u001b[31m✖\u001b[39m \u001b[34mdplyr\u001b[39m::\u001b[32mlag()\u001b[39m    masks \u001b[34mstats\u001b[39m::lag()\n",
      "\u001b[36mℹ\u001b[39m Use the conflicted package (\u001b[3m\u001b[34m<http://conflicted.r-lib.org/>\u001b[39m\u001b[23m) to force all conflicts to become errors\n",
      "── \u001b[1mAttaching packages\u001b[22m ────────────────────────────────────── tidymodels 1.1.1 ──\n",
      "\n",
      "\u001b[32m✔\u001b[39m \u001b[34mbroom       \u001b[39m 1.0.6     \u001b[32m✔\u001b[39m \u001b[34mrsample     \u001b[39m 1.2.1\n",
      "\u001b[32m✔\u001b[39m \u001b[34mdials       \u001b[39m 1.3.0     \u001b[32m✔\u001b[39m \u001b[34mtune        \u001b[39m 1.1.2\n",
      "\u001b[32m✔\u001b[39m \u001b[34minfer       \u001b[39m 1.0.7     \u001b[32m✔\u001b[39m \u001b[34mworkflows   \u001b[39m 1.1.4\n",
      "\u001b[32m✔\u001b[39m \u001b[34mmodeldata   \u001b[39m 1.4.0     \u001b[32m✔\u001b[39m \u001b[34mworkflowsets\u001b[39m 1.0.1\n",
      "\u001b[32m✔\u001b[39m \u001b[34mparsnip     \u001b[39m 1.2.1     \u001b[32m✔\u001b[39m \u001b[34myardstick   \u001b[39m 1.3.1\n",
      "\u001b[32m✔\u001b[39m \u001b[34mrecipes     \u001b[39m 1.1.0     \n",
      "\n",
      "── \u001b[1mConflicts\u001b[22m ───────────────────────────────────────── tidymodels_conflicts() ──\n",
      "\u001b[31m✖\u001b[39m \u001b[34mscales\u001b[39m::\u001b[32mdiscard()\u001b[39m masks \u001b[34mpurrr\u001b[39m::discard()\n",
      "\u001b[31m✖\u001b[39m \u001b[34mdplyr\u001b[39m::\u001b[32mfilter()\u001b[39m   masks \u001b[34mstats\u001b[39m::filter()\n",
      "\u001b[31m✖\u001b[39m \u001b[34mrecipes\u001b[39m::\u001b[32mfixed()\u001b[39m  masks \u001b[34mstringr\u001b[39m::fixed()\n",
      "\u001b[31m✖\u001b[39m \u001b[34mdplyr\u001b[39m::\u001b[32mlag()\u001b[39m      masks \u001b[34mstats\u001b[39m::lag()\n",
      "\u001b[31m✖\u001b[39m \u001b[34myardstick\u001b[39m::\u001b[32mspec()\u001b[39m masks \u001b[34mreadr\u001b[39m::spec()\n",
      "\u001b[31m✖\u001b[39m \u001b[34mrecipes\u001b[39m::\u001b[32mstep()\u001b[39m   masks \u001b[34mstats\u001b[39m::step()\n",
      "\u001b[34m•\u001b[39m Use suppressPackageStartupMessages() to eliminate package startup messages\n",
      "\n",
      "\n",
      "Attaching package: ‘janitor’\n",
      "\n",
      "\n",
      "The following objects are masked from ‘package:stats’:\n",
      "\n",
      "    chisq.test, fisher.test\n",
      "\n",
      "\n"
     ]
    }
   ],
   "source": [
    "library(tidyverse)\n",
    "library(repr)\n",
    "library(tidymodels)\n",
    "library(janitor)\n",
    "options(repr.matrix.max.rows = 6)\n"
   ]
  },
  {
   "cell_type": "code",
   "execution_count": 4,
   "id": "9252b550-b692-47dd-8b33-0bc228a37a6a",
   "metadata": {},
   "outputs": [
    {
     "name": "stderr",
     "output_type": "stream",
     "text": [
      "\u001b[1mRows: \u001b[22m\u001b[34m196\u001b[39m \u001b[1mColumns: \u001b[22m\u001b[34m9\u001b[39m\n",
      "\u001b[36m──\u001b[39m \u001b[1mColumn specification\u001b[22m \u001b[36m────────────────────────────────────────────────────────\u001b[39m\n",
      "\u001b[1mDelimiter:\u001b[22m \",\"\n",
      "\u001b[31mchr\u001b[39m (4): experience, hashedEmail, name, gender\n",
      "\u001b[32mdbl\u001b[39m (2): played_hours, age\n",
      "\u001b[33mlgl\u001b[39m (3): subscribe, individualId, organizationName\n",
      "\n",
      "\u001b[36mℹ\u001b[39m Use `spec()` to retrieve the full column specification for this data.\n",
      "\u001b[36mℹ\u001b[39m Specify the column types or set `show_col_types = FALSE` to quiet this message.\n"
     ]
    },
    {
     "data": {
      "text/html": [
       "<table class=\"dataframe\">\n",
       "<caption>A spec_tbl_df: 196 × 9</caption>\n",
       "<thead>\n",
       "\t<tr><th scope=col>experience</th><th scope=col>subscribe</th><th scope=col>hashed_email</th><th scope=col>played_hours</th><th scope=col>name</th><th scope=col>gender</th><th scope=col>age</th><th scope=col>individual_id</th><th scope=col>organization_name</th></tr>\n",
       "\t<tr><th scope=col>&lt;chr&gt;</th><th scope=col>&lt;lgl&gt;</th><th scope=col>&lt;chr&gt;</th><th scope=col>&lt;dbl&gt;</th><th scope=col>&lt;chr&gt;</th><th scope=col>&lt;chr&gt;</th><th scope=col>&lt;dbl&gt;</th><th scope=col>&lt;lgl&gt;</th><th scope=col>&lt;lgl&gt;</th></tr>\n",
       "</thead>\n",
       "<tbody>\n",
       "\t<tr><td>Pro    </td><td> TRUE</td><td>f6daba428a5e19a3d47574858c13550499be23603422e6a0ee9728f8b53e192d</td><td>30.3</td><td>Morgan   </td><td>Male</td><td> 9</td><td>NA</td><td>NA</td></tr>\n",
       "\t<tr><td>Veteran</td><td> TRUE</td><td>f3c813577c458ba0dfef80996f8f32c93b6e8af1fa939732842f2312358a88e9</td><td> 3.8</td><td>Christian</td><td>Male</td><td>17</td><td>NA</td><td>NA</td></tr>\n",
       "\t<tr><td>Veteran</td><td>FALSE</td><td>b674dd7ee0d24096d1c019615ce4d12b20fcbff12d79d3c5a9d2118eb7ccbb28</td><td> 0.0</td><td>Blake    </td><td>Male</td><td>17</td><td>NA</td><td>NA</td></tr>\n",
       "\t<tr><td>⋮</td><td>⋮</td><td>⋮</td><td>⋮</td><td>⋮</td><td>⋮</td><td>⋮</td><td>⋮</td><td>⋮</td></tr>\n",
       "\t<tr><td>Amateur</td><td>FALSE</td><td>d572f391d452b76ea2d7e5e53a3d38bfd7499c7399db299bd4fedb06a46ad5bb</td><td>0.0</td><td>Dylan </td><td>Prefer not to say</td><td>17</td><td>NA</td><td>NA</td></tr>\n",
       "\t<tr><td>Amateur</td><td>FALSE</td><td>f19e136ddde68f365afc860c725ccff54307dedd13968e896a9f890c40aea436</td><td>2.3</td><td>Harlow</td><td>Male             </td><td>17</td><td>NA</td><td>NA</td></tr>\n",
       "\t<tr><td>Pro    </td><td> TRUE</td><td>d9473710057f7d42f36570f0be83817a4eea614029ff90cf50d8889cdd729d11</td><td>0.2</td><td>Ahmed </td><td>Other            </td><td>91</td><td>NA</td><td>NA</td></tr>\n",
       "</tbody>\n",
       "</table>\n"
      ],
      "text/latex": [
       "A spec\\_tbl\\_df: 196 × 9\n",
       "\\begin{tabular}{lllllllll}\n",
       " experience & subscribe & hashed\\_email & played\\_hours & name & gender & age & individual\\_id & organization\\_name\\\\\n",
       " <chr> & <lgl> & <chr> & <dbl> & <chr> & <chr> & <dbl> & <lgl> & <lgl>\\\\\n",
       "\\hline\n",
       "\t Pro     &  TRUE & f6daba428a5e19a3d47574858c13550499be23603422e6a0ee9728f8b53e192d & 30.3 & Morgan    & Male &  9 & NA & NA\\\\\n",
       "\t Veteran &  TRUE & f3c813577c458ba0dfef80996f8f32c93b6e8af1fa939732842f2312358a88e9 &  3.8 & Christian & Male & 17 & NA & NA\\\\\n",
       "\t Veteran & FALSE & b674dd7ee0d24096d1c019615ce4d12b20fcbff12d79d3c5a9d2118eb7ccbb28 &  0.0 & Blake     & Male & 17 & NA & NA\\\\\n",
       "\t ⋮ & ⋮ & ⋮ & ⋮ & ⋮ & ⋮ & ⋮ & ⋮ & ⋮\\\\\n",
       "\t Amateur & FALSE & d572f391d452b76ea2d7e5e53a3d38bfd7499c7399db299bd4fedb06a46ad5bb & 0.0 & Dylan  & Prefer not to say & 17 & NA & NA\\\\\n",
       "\t Amateur & FALSE & f19e136ddde68f365afc860c725ccff54307dedd13968e896a9f890c40aea436 & 2.3 & Harlow & Male              & 17 & NA & NA\\\\\n",
       "\t Pro     &  TRUE & d9473710057f7d42f36570f0be83817a4eea614029ff90cf50d8889cdd729d11 & 0.2 & Ahmed  & Other             & 91 & NA & NA\\\\\n",
       "\\end{tabular}\n"
      ],
      "text/markdown": [
       "\n",
       "A spec_tbl_df: 196 × 9\n",
       "\n",
       "| experience &lt;chr&gt; | subscribe &lt;lgl&gt; | hashed_email &lt;chr&gt; | played_hours &lt;dbl&gt; | name &lt;chr&gt; | gender &lt;chr&gt; | age &lt;dbl&gt; | individual_id &lt;lgl&gt; | organization_name &lt;lgl&gt; |\n",
       "|---|---|---|---|---|---|---|---|---|\n",
       "| Pro     |  TRUE | f6daba428a5e19a3d47574858c13550499be23603422e6a0ee9728f8b53e192d | 30.3 | Morgan    | Male |  9 | NA | NA |\n",
       "| Veteran |  TRUE | f3c813577c458ba0dfef80996f8f32c93b6e8af1fa939732842f2312358a88e9 |  3.8 | Christian | Male | 17 | NA | NA |\n",
       "| Veteran | FALSE | b674dd7ee0d24096d1c019615ce4d12b20fcbff12d79d3c5a9d2118eb7ccbb28 |  0.0 | Blake     | Male | 17 | NA | NA |\n",
       "| ⋮ | ⋮ | ⋮ | ⋮ | ⋮ | ⋮ | ⋮ | ⋮ | ⋮ |\n",
       "| Amateur | FALSE | d572f391d452b76ea2d7e5e53a3d38bfd7499c7399db299bd4fedb06a46ad5bb | 0.0 | Dylan  | Prefer not to say | 17 | NA | NA |\n",
       "| Amateur | FALSE | f19e136ddde68f365afc860c725ccff54307dedd13968e896a9f890c40aea436 | 2.3 | Harlow | Male              | 17 | NA | NA |\n",
       "| Pro     |  TRUE | d9473710057f7d42f36570f0be83817a4eea614029ff90cf50d8889cdd729d11 | 0.2 | Ahmed  | Other             | 91 | NA | NA |\n",
       "\n"
      ],
      "text/plain": [
       "    experience subscribe\n",
       "1   Pro         TRUE    \n",
       "2   Veteran     TRUE    \n",
       "3   Veteran    FALSE    \n",
       "⋮   ⋮          ⋮        \n",
       "194 Amateur    FALSE    \n",
       "195 Amateur    FALSE    \n",
       "196 Pro         TRUE    \n",
       "    hashed_email                                                    \n",
       "1   f6daba428a5e19a3d47574858c13550499be23603422e6a0ee9728f8b53e192d\n",
       "2   f3c813577c458ba0dfef80996f8f32c93b6e8af1fa939732842f2312358a88e9\n",
       "3   b674dd7ee0d24096d1c019615ce4d12b20fcbff12d79d3c5a9d2118eb7ccbb28\n",
       "⋮   ⋮                                                               \n",
       "194 d572f391d452b76ea2d7e5e53a3d38bfd7499c7399db299bd4fedb06a46ad5bb\n",
       "195 f19e136ddde68f365afc860c725ccff54307dedd13968e896a9f890c40aea436\n",
       "196 d9473710057f7d42f36570f0be83817a4eea614029ff90cf50d8889cdd729d11\n",
       "    played_hours name      gender            age individual_id\n",
       "1   30.3         Morgan    Male               9  NA           \n",
       "2    3.8         Christian Male              17  NA           \n",
       "3    0.0         Blake     Male              17  NA           \n",
       "⋮   ⋮            ⋮         ⋮                 ⋮   ⋮            \n",
       "194 0.0          Dylan     Prefer not to say 17  NA           \n",
       "195 2.3          Harlow    Male              17  NA           \n",
       "196 0.2          Ahmed     Other             91  NA           \n",
       "    organization_name\n",
       "1   NA               \n",
       "2   NA               \n",
       "3   NA               \n",
       "⋮   ⋮                \n",
       "194 NA               \n",
       "195 NA               \n",
       "196 NA               "
      ]
     },
     "metadata": {},
     "output_type": "display_data"
    }
   ],
   "source": [
    "url_players <- \"https://drive.google.com/uc?export=download&id=1Mw9vW0hjTJwRWx0bDXiSpYsO3gKogaPz\"\n",
    "url_sessions <- \"https://drive.google.com/uc?export=download&id=14O91N5OlVkvdGxXNJUj5jIsV5RexhzbB\"\n",
    "\n",
    "player_data <- read_csv(url_players) |>\n",
    "    clean_names()\n",
    "player_data \n",
    "\n"
   ]
  },
  {
   "cell_type": "code",
   "execution_count": 6,
   "id": "7ea6624b-a679-4701-9b65-eb7b00a085a7",
   "metadata": {},
   "outputs": [
    {
     "data": {
      "text/html": [
       "<table class=\"dataframe\">\n",
       "<caption>A tibble: 196 × 11</caption>\n",
       "<thead>\n",
       "\t<tr><th scope=col>experience</th><th scope=col>subscribe</th><th scope=col>played_hours</th><th scope=col>name</th><th scope=col>gender</th><th scope=col>age</th><th scope=col>Pro</th><th scope=col>Amateur</th><th scope=col>Veteran</th><th scope=col>Beginner</th><th scope=col>Regular</th></tr>\n",
       "\t<tr><th scope=col>&lt;chr&gt;</th><th scope=col>&lt;lgl&gt;</th><th scope=col>&lt;dbl&gt;</th><th scope=col>&lt;chr&gt;</th><th scope=col>&lt;chr&gt;</th><th scope=col>&lt;dbl&gt;</th><th scope=col>&lt;dbl&gt;</th><th scope=col>&lt;dbl&gt;</th><th scope=col>&lt;dbl&gt;</th><th scope=col>&lt;dbl&gt;</th><th scope=col>&lt;dbl&gt;</th></tr>\n",
       "</thead>\n",
       "<tbody>\n",
       "\t<tr><td>Pro    </td><td> TRUE</td><td>30.3</td><td>Morgan   </td><td>Male</td><td> 9</td><td>1</td><td>0</td><td>0</td><td>0</td><td>0</td></tr>\n",
       "\t<tr><td>Veteran</td><td> TRUE</td><td> 3.8</td><td>Christian</td><td>Male</td><td>17</td><td>0</td><td>0</td><td>1</td><td>0</td><td>0</td></tr>\n",
       "\t<tr><td>Veteran</td><td>FALSE</td><td> 0.0</td><td>Blake    </td><td>Male</td><td>17</td><td>0</td><td>0</td><td>1</td><td>0</td><td>0</td></tr>\n",
       "\t<tr><td>⋮</td><td>⋮</td><td>⋮</td><td>⋮</td><td>⋮</td><td>⋮</td><td>⋮</td><td>⋮</td><td>⋮</td><td>⋮</td><td>⋮</td></tr>\n",
       "\t<tr><td>Amateur</td><td>FALSE</td><td>0.0</td><td>Dylan </td><td>Prefer not to say</td><td>17</td><td>0</td><td>1</td><td>0</td><td>0</td><td>0</td></tr>\n",
       "\t<tr><td>Amateur</td><td>FALSE</td><td>2.3</td><td>Harlow</td><td>Male             </td><td>17</td><td>0</td><td>1</td><td>0</td><td>0</td><td>0</td></tr>\n",
       "\t<tr><td>Pro    </td><td> TRUE</td><td>0.2</td><td>Ahmed </td><td>Other            </td><td>91</td><td>1</td><td>0</td><td>0</td><td>0</td><td>0</td></tr>\n",
       "</tbody>\n",
       "</table>\n"
      ],
      "text/latex": [
       "A tibble: 196 × 11\n",
       "\\begin{tabular}{lllllllllll}\n",
       " experience & subscribe & played\\_hours & name & gender & age & Pro & Amateur & Veteran & Beginner & Regular\\\\\n",
       " <chr> & <lgl> & <dbl> & <chr> & <chr> & <dbl> & <dbl> & <dbl> & <dbl> & <dbl> & <dbl>\\\\\n",
       "\\hline\n",
       "\t Pro     &  TRUE & 30.3 & Morgan    & Male &  9 & 1 & 0 & 0 & 0 & 0\\\\\n",
       "\t Veteran &  TRUE &  3.8 & Christian & Male & 17 & 0 & 0 & 1 & 0 & 0\\\\\n",
       "\t Veteran & FALSE &  0.0 & Blake     & Male & 17 & 0 & 0 & 1 & 0 & 0\\\\\n",
       "\t ⋮ & ⋮ & ⋮ & ⋮ & ⋮ & ⋮ & ⋮ & ⋮ & ⋮ & ⋮ & ⋮\\\\\n",
       "\t Amateur & FALSE & 0.0 & Dylan  & Prefer not to say & 17 & 0 & 1 & 0 & 0 & 0\\\\\n",
       "\t Amateur & FALSE & 2.3 & Harlow & Male              & 17 & 0 & 1 & 0 & 0 & 0\\\\\n",
       "\t Pro     &  TRUE & 0.2 & Ahmed  & Other             & 91 & 1 & 0 & 0 & 0 & 0\\\\\n",
       "\\end{tabular}\n"
      ],
      "text/markdown": [
       "\n",
       "A tibble: 196 × 11\n",
       "\n",
       "| experience &lt;chr&gt; | subscribe &lt;lgl&gt; | played_hours &lt;dbl&gt; | name &lt;chr&gt; | gender &lt;chr&gt; | age &lt;dbl&gt; | Pro &lt;dbl&gt; | Amateur &lt;dbl&gt; | Veteran &lt;dbl&gt; | Beginner &lt;dbl&gt; | Regular &lt;dbl&gt; |\n",
       "|---|---|---|---|---|---|---|---|---|---|---|\n",
       "| Pro     |  TRUE | 30.3 | Morgan    | Male |  9 | 1 | 0 | 0 | 0 | 0 |\n",
       "| Veteran |  TRUE |  3.8 | Christian | Male | 17 | 0 | 0 | 1 | 0 | 0 |\n",
       "| Veteran | FALSE |  0.0 | Blake     | Male | 17 | 0 | 0 | 1 | 0 | 0 |\n",
       "| ⋮ | ⋮ | ⋮ | ⋮ | ⋮ | ⋮ | ⋮ | ⋮ | ⋮ | ⋮ | ⋮ |\n",
       "| Amateur | FALSE | 0.0 | Dylan  | Prefer not to say | 17 | 0 | 1 | 0 | 0 | 0 |\n",
       "| Amateur | FALSE | 2.3 | Harlow | Male              | 17 | 0 | 1 | 0 | 0 | 0 |\n",
       "| Pro     |  TRUE | 0.2 | Ahmed  | Other             | 91 | 1 | 0 | 0 | 0 | 0 |\n",
       "\n"
      ],
      "text/plain": [
       "    experience subscribe played_hours name      gender            age Pro\n",
       "1   Pro         TRUE     30.3         Morgan    Male               9  1  \n",
       "2   Veteran     TRUE      3.8         Christian Male              17  0  \n",
       "3   Veteran    FALSE      0.0         Blake     Male              17  0  \n",
       "⋮   ⋮          ⋮         ⋮            ⋮         ⋮                 ⋮   ⋮  \n",
       "194 Amateur    FALSE     0.0          Dylan     Prefer not to say 17  0  \n",
       "195 Amateur    FALSE     2.3          Harlow    Male              17  0  \n",
       "196 Pro         TRUE     0.2          Ahmed     Other             91  1  \n",
       "    Amateur Veteran Beginner Regular\n",
       "1   0       0       0        0      \n",
       "2   0       1       0        0      \n",
       "3   0       1       0        0      \n",
       "⋮   ⋮       ⋮       ⋮        ⋮      \n",
       "194 1       0       0        0      \n",
       "195 1       0       0        0      \n",
       "196 0       0       0        0      "
      ]
     },
     "metadata": {},
     "output_type": "display_data"
    }
   ],
   "source": [
    "players <- player_data |>\n",
    "    mutate(Pro = ifelse(experience == \"Pro\", 1, 0),\n",
    "           Amateur = ifelse(experience == \"Amateur\", 1, 0),\n",
    "           Veteran = ifelse(experience == \"Veteran\", 1, 0),\n",
    "           Beginner = ifelse(experience == \"Beginner\", 1, 0),\n",
    "           Regular = ifelse(experience == \"Regular\", 1, 0)) |>\n",
    "    select(-individual_id, -hashed_email, -organization_name)\n",
    "players\n",
    "\n",
    "\n",
    "\n"
   ]
  },
  {
   "cell_type": "code",
   "execution_count": 7,
   "id": "31dddb31-a199-46c0-991c-53dd51fc43c2",
   "metadata": {},
   "outputs": [
    {
     "data": {
      "text/html": [
       "<table class=\"dataframe\">\n",
       "<caption>A tibble: 146 × 11</caption>\n",
       "<thead>\n",
       "\t<tr><th scope=col>experience</th><th scope=col>subscribe</th><th scope=col>played_hours</th><th scope=col>name</th><th scope=col>gender</th><th scope=col>age</th><th scope=col>Pro</th><th scope=col>Amateur</th><th scope=col>Veteran</th><th scope=col>Beginner</th><th scope=col>Regular</th></tr>\n",
       "\t<tr><th scope=col>&lt;chr&gt;</th><th scope=col>&lt;lgl&gt;</th><th scope=col>&lt;dbl&gt;</th><th scope=col>&lt;chr&gt;</th><th scope=col>&lt;chr&gt;</th><th scope=col>&lt;dbl&gt;</th><th scope=col>&lt;dbl&gt;</th><th scope=col>&lt;dbl&gt;</th><th scope=col>&lt;dbl&gt;</th><th scope=col>&lt;dbl&gt;</th><th scope=col>&lt;dbl&gt;</th></tr>\n",
       "</thead>\n",
       "<tbody>\n",
       "\t<tr><td>Veteran</td><td>FALSE</td><td>0.0</td><td>Blake </td><td>Male  </td><td>17</td><td>0</td><td>0</td><td>1</td><td>0</td><td>0</td></tr>\n",
       "\t<tr><td>Regular</td><td> TRUE</td><td>0.1</td><td>Kylie </td><td>Male  </td><td>21</td><td>0</td><td>0</td><td>0</td><td>0</td><td>1</td></tr>\n",
       "\t<tr><td>Amateur</td><td> TRUE</td><td>0.0</td><td>Adrian</td><td>Female</td><td>17</td><td>0</td><td>1</td><td>0</td><td>0</td><td>0</td></tr>\n",
       "\t<tr><td>⋮</td><td>⋮</td><td>⋮</td><td>⋮</td><td>⋮</td><td>⋮</td><td>⋮</td><td>⋮</td><td>⋮</td><td>⋮</td><td>⋮</td></tr>\n",
       "\t<tr><td>Amateur</td><td> TRUE</td><td> 0.8</td><td>Hunter</td><td>Female</td><td>22</td><td>0</td><td>1</td><td>0</td><td>0</td><td>0</td></tr>\n",
       "\t<tr><td>Amateur</td><td> TRUE</td><td>32.0</td><td>Sidney</td><td>Male  </td><td>22</td><td>0</td><td>1</td><td>0</td><td>0</td><td>0</td></tr>\n",
       "\t<tr><td>Amateur</td><td>FALSE</td><td> 2.3</td><td>Harlow</td><td>Male  </td><td>17</td><td>0</td><td>1</td><td>0</td><td>0</td><td>0</td></tr>\n",
       "</tbody>\n",
       "</table>\n"
      ],
      "text/latex": [
       "A tibble: 146 × 11\n",
       "\\begin{tabular}{lllllllllll}\n",
       " experience & subscribe & played\\_hours & name & gender & age & Pro & Amateur & Veteran & Beginner & Regular\\\\\n",
       " <chr> & <lgl> & <dbl> & <chr> & <chr> & <dbl> & <dbl> & <dbl> & <dbl> & <dbl> & <dbl>\\\\\n",
       "\\hline\n",
       "\t Veteran & FALSE & 0.0 & Blake  & Male   & 17 & 0 & 0 & 1 & 0 & 0\\\\\n",
       "\t Regular &  TRUE & 0.1 & Kylie  & Male   & 21 & 0 & 0 & 0 & 0 & 1\\\\\n",
       "\t Amateur &  TRUE & 0.0 & Adrian & Female & 17 & 0 & 1 & 0 & 0 & 0\\\\\n",
       "\t ⋮ & ⋮ & ⋮ & ⋮ & ⋮ & ⋮ & ⋮ & ⋮ & ⋮ & ⋮ & ⋮\\\\\n",
       "\t Amateur &  TRUE &  0.8 & Hunter & Female & 22 & 0 & 1 & 0 & 0 & 0\\\\\n",
       "\t Amateur &  TRUE & 32.0 & Sidney & Male   & 22 & 0 & 1 & 0 & 0 & 0\\\\\n",
       "\t Amateur & FALSE &  2.3 & Harlow & Male   & 17 & 0 & 1 & 0 & 0 & 0\\\\\n",
       "\\end{tabular}\n"
      ],
      "text/markdown": [
       "\n",
       "A tibble: 146 × 11\n",
       "\n",
       "| experience &lt;chr&gt; | subscribe &lt;lgl&gt; | played_hours &lt;dbl&gt; | name &lt;chr&gt; | gender &lt;chr&gt; | age &lt;dbl&gt; | Pro &lt;dbl&gt; | Amateur &lt;dbl&gt; | Veteran &lt;dbl&gt; | Beginner &lt;dbl&gt; | Regular &lt;dbl&gt; |\n",
       "|---|---|---|---|---|---|---|---|---|---|---|\n",
       "| Veteran | FALSE | 0.0 | Blake  | Male   | 17 | 0 | 0 | 1 | 0 | 0 |\n",
       "| Regular |  TRUE | 0.1 | Kylie  | Male   | 21 | 0 | 0 | 0 | 0 | 1 |\n",
       "| Amateur |  TRUE | 0.0 | Adrian | Female | 17 | 0 | 1 | 0 | 0 | 0 |\n",
       "| ⋮ | ⋮ | ⋮ | ⋮ | ⋮ | ⋮ | ⋮ | ⋮ | ⋮ | ⋮ | ⋮ |\n",
       "| Amateur |  TRUE |  0.8 | Hunter | Female | 22 | 0 | 1 | 0 | 0 | 0 |\n",
       "| Amateur |  TRUE | 32.0 | Sidney | Male   | 22 | 0 | 1 | 0 | 0 | 0 |\n",
       "| Amateur | FALSE |  2.3 | Harlow | Male   | 17 | 0 | 1 | 0 | 0 | 0 |\n",
       "\n"
      ],
      "text/plain": [
       "    experience subscribe played_hours name   gender age Pro Amateur Veteran\n",
       "1   Veteran    FALSE     0.0          Blake  Male   17  0   0       1      \n",
       "2   Regular     TRUE     0.1          Kylie  Male   21  0   0       0      \n",
       "3   Amateur     TRUE     0.0          Adrian Female 17  0   1       0      \n",
       "⋮   ⋮          ⋮         ⋮            ⋮      ⋮      ⋮   ⋮   ⋮       ⋮      \n",
       "144 Amateur     TRUE      0.8         Hunter Female 22  0   1       0      \n",
       "145 Amateur     TRUE     32.0         Sidney Male   22  0   1       0      \n",
       "146 Amateur    FALSE      2.3         Harlow Male   17  0   1       0      \n",
       "    Beginner Regular\n",
       "1   0        0      \n",
       "2   0        1      \n",
       "3   0        0      \n",
       "⋮   ⋮        ⋮      \n",
       "144 0        0      \n",
       "145 0        0      \n",
       "146 0        0      "
      ]
     },
     "metadata": {},
     "output_type": "display_data"
    },
    {
     "data": {
      "text/html": [
       "<table class=\"dataframe\">\n",
       "<caption>A tibble: 50 × 11</caption>\n",
       "<thead>\n",
       "\t<tr><th scope=col>experience</th><th scope=col>subscribe</th><th scope=col>played_hours</th><th scope=col>name</th><th scope=col>gender</th><th scope=col>age</th><th scope=col>Pro</th><th scope=col>Amateur</th><th scope=col>Veteran</th><th scope=col>Beginner</th><th scope=col>Regular</th></tr>\n",
       "\t<tr><th scope=col>&lt;chr&gt;</th><th scope=col>&lt;lgl&gt;</th><th scope=col>&lt;dbl&gt;</th><th scope=col>&lt;chr&gt;</th><th scope=col>&lt;chr&gt;</th><th scope=col>&lt;dbl&gt;</th><th scope=col>&lt;dbl&gt;</th><th scope=col>&lt;dbl&gt;</th><th scope=col>&lt;dbl&gt;</th><th scope=col>&lt;dbl&gt;</th><th scope=col>&lt;dbl&gt;</th></tr>\n",
       "</thead>\n",
       "<tbody>\n",
       "\t<tr><td>Amateur </td><td>FALSE</td><td>0.0</td><td>Emerson</td><td>Male  </td><td>21</td><td>0</td><td>1</td><td>0</td><td>0</td><td>0</td></tr>\n",
       "\t<tr><td>Beginner</td><td> TRUE</td><td>1.5</td><td>Sarah  </td><td>Female</td><td>25</td><td>0</td><td>0</td><td>0</td><td>1</td><td>0</td></tr>\n",
       "\t<tr><td>Amateur </td><td> TRUE</td><td>0.5</td><td>Marley </td><td>Male  </td><td>17</td><td>0</td><td>1</td><td>0</td><td>0</td><td>0</td></tr>\n",
       "\t<tr><td>⋮</td><td>⋮</td><td>⋮</td><td>⋮</td><td>⋮</td><td>⋮</td><td>⋮</td><td>⋮</td><td>⋮</td><td>⋮</td><td>⋮</td></tr>\n",
       "\t<tr><td>Veteran</td><td>TRUE</td><td>0.1</td><td>Gabriela</td><td>Female</td><td>44</td><td>0</td><td>0</td><td>1</td><td>0</td><td>0</td></tr>\n",
       "\t<tr><td>Amateur</td><td>TRUE</td><td>0.0</td><td>Rhys    </td><td>Male  </td><td>20</td><td>0</td><td>1</td><td>0</td><td>0</td><td>0</td></tr>\n",
       "\t<tr><td>Amateur</td><td>TRUE</td><td>0.0</td><td>Bailey  </td><td>Female</td><td>17</td><td>0</td><td>1</td><td>0</td><td>0</td><td>0</td></tr>\n",
       "</tbody>\n",
       "</table>\n"
      ],
      "text/latex": [
       "A tibble: 50 × 11\n",
       "\\begin{tabular}{lllllllllll}\n",
       " experience & subscribe & played\\_hours & name & gender & age & Pro & Amateur & Veteran & Beginner & Regular\\\\\n",
       " <chr> & <lgl> & <dbl> & <chr> & <chr> & <dbl> & <dbl> & <dbl> & <dbl> & <dbl> & <dbl>\\\\\n",
       "\\hline\n",
       "\t Amateur  & FALSE & 0.0 & Emerson & Male   & 21 & 0 & 1 & 0 & 0 & 0\\\\\n",
       "\t Beginner &  TRUE & 1.5 & Sarah   & Female & 25 & 0 & 0 & 0 & 1 & 0\\\\\n",
       "\t Amateur  &  TRUE & 0.5 & Marley  & Male   & 17 & 0 & 1 & 0 & 0 & 0\\\\\n",
       "\t ⋮ & ⋮ & ⋮ & ⋮ & ⋮ & ⋮ & ⋮ & ⋮ & ⋮ & ⋮ & ⋮\\\\\n",
       "\t Veteran & TRUE & 0.1 & Gabriela & Female & 44 & 0 & 0 & 1 & 0 & 0\\\\\n",
       "\t Amateur & TRUE & 0.0 & Rhys     & Male   & 20 & 0 & 1 & 0 & 0 & 0\\\\\n",
       "\t Amateur & TRUE & 0.0 & Bailey   & Female & 17 & 0 & 1 & 0 & 0 & 0\\\\\n",
       "\\end{tabular}\n"
      ],
      "text/markdown": [
       "\n",
       "A tibble: 50 × 11\n",
       "\n",
       "| experience &lt;chr&gt; | subscribe &lt;lgl&gt; | played_hours &lt;dbl&gt; | name &lt;chr&gt; | gender &lt;chr&gt; | age &lt;dbl&gt; | Pro &lt;dbl&gt; | Amateur &lt;dbl&gt; | Veteran &lt;dbl&gt; | Beginner &lt;dbl&gt; | Regular &lt;dbl&gt; |\n",
       "|---|---|---|---|---|---|---|---|---|---|---|\n",
       "| Amateur  | FALSE | 0.0 | Emerson | Male   | 21 | 0 | 1 | 0 | 0 | 0 |\n",
       "| Beginner |  TRUE | 1.5 | Sarah   | Female | 25 | 0 | 0 | 0 | 1 | 0 |\n",
       "| Amateur  |  TRUE | 0.5 | Marley  | Male   | 17 | 0 | 1 | 0 | 0 | 0 |\n",
       "| ⋮ | ⋮ | ⋮ | ⋮ | ⋮ | ⋮ | ⋮ | ⋮ | ⋮ | ⋮ | ⋮ |\n",
       "| Veteran | TRUE | 0.1 | Gabriela | Female | 44 | 0 | 0 | 1 | 0 | 0 |\n",
       "| Amateur | TRUE | 0.0 | Rhys     | Male   | 20 | 0 | 1 | 0 | 0 | 0 |\n",
       "| Amateur | TRUE | 0.0 | Bailey   | Female | 17 | 0 | 1 | 0 | 0 | 0 |\n",
       "\n"
      ],
      "text/plain": [
       "   experience subscribe played_hours name     gender age Pro Amateur Veteran\n",
       "1  Amateur    FALSE     0.0          Emerson  Male   21  0   1       0      \n",
       "2  Beginner    TRUE     1.5          Sarah    Female 25  0   0       0      \n",
       "3  Amateur     TRUE     0.5          Marley   Male   17  0   1       0      \n",
       "⋮  ⋮          ⋮         ⋮            ⋮        ⋮      ⋮   ⋮   ⋮       ⋮      \n",
       "48 Veteran    TRUE      0.1          Gabriela Female 44  0   0       1      \n",
       "49 Amateur    TRUE      0.0          Rhys     Male   20  0   1       0      \n",
       "50 Amateur    TRUE      0.0          Bailey   Female 17  0   1       0      \n",
       "   Beginner Regular\n",
       "1  0        0      \n",
       "2  1        0      \n",
       "3  0        0      \n",
       "⋮  ⋮        ⋮      \n",
       "48 0        0      \n",
       "49 0        0      \n",
       "50 0        0      "
      ]
     },
     "metadata": {},
     "output_type": "display_data"
    }
   ],
   "source": [
    "player_split <- initial_split(players, prop = 0.75, strata = played_hours)\n",
    "player_training <- training(player_split)\n",
    "player_training\n",
    "player_testing <- testing(player_split)\n",
    "player_testing"
   ]
  },
  {
   "cell_type": "code",
   "execution_count": 11,
   "id": "9fad981d-5bf4-4c1c-9411-6b737f86b80a",
   "metadata": {},
   "outputs": [
    {
     "name": "stderr",
     "output_type": "stream",
     "text": [
      "\n",
      "\n",
      "\u001b[36m──\u001b[39m \u001b[1mRecipe\u001b[22m \u001b[36m──────────────────────────────────────────────────────────────────────\u001b[39m\n",
      "\n",
      "\n",
      "\n",
      "── Inputs \n",
      "\n",
      "Number of variables by role\n",
      "\n",
      "outcome:   1\n",
      "predictor: 6\n",
      "\n",
      "\n",
      "\n",
      "── Operations \n",
      "\n",
      "\u001b[36m•\u001b[39m Scaling for: \u001b[34mall_predictors()\u001b[39m\n",
      "\n",
      "\u001b[36m•\u001b[39m Centering for: \u001b[34mall_predictors()\u001b[39m\n",
      "\n"
     ]
    }
   ],
   "source": [
    "player_spec <- nearest_neighbor(weight_func = \"rectangular\", neighbors = tune()) |> \n",
    "      set_engine(\"kknn\") |>\n",
    "      set_mode(\"regression\") \n",
    "\n",
    "player_recipe <- recipe(played_hours ~ age + Pro + Amateur + Veteran + Beginner + Regular, data = players ) |>\n",
    "      step_scale(all_predictors()) |>\n",
    "      step_center(all_predictors())\n",
    "player_recipe\n"
   ]
  },
  {
   "cell_type": "code",
   "execution_count": 12,
   "id": "12260155-ceaa-4db6-a728-c6cbadc2211f",
   "metadata": {},
   "outputs": [
    {
     "data": {
      "text/plain": [
       "══ Workflow ════════════════════════════════════════════════════════════════════\n",
       "\u001b[3mPreprocessor:\u001b[23m Recipe\n",
       "\u001b[3mModel:\u001b[23m nearest_neighbor()\n",
       "\n",
       "── Preprocessor ────────────────────────────────────────────────────────────────\n",
       "2 Recipe Steps\n",
       "\n",
       "• step_scale()\n",
       "• step_center()\n",
       "\n",
       "── Model ───────────────────────────────────────────────────────────────────────\n",
       "K-Nearest Neighbor Model Specification (regression)\n",
       "\n",
       "Main Arguments:\n",
       "  neighbors = tune()\n",
       "  weight_func = rectangular\n",
       "\n",
       "Computational engine: kknn \n"
      ]
     },
     "metadata": {},
     "output_type": "display_data"
    },
    {
     "data": {
      "text/html": [
       "<table class=\"dataframe\">\n",
       "<caption>A tibble: 20 × 7</caption>\n",
       "<thead>\n",
       "\t<tr><th scope=col>neighbors</th><th scope=col>.metric</th><th scope=col>.estimator</th><th scope=col>mean</th><th scope=col>n</th><th scope=col>std_err</th><th scope=col>.config</th></tr>\n",
       "\t<tr><th scope=col>&lt;dbl&gt;</th><th scope=col>&lt;chr&gt;</th><th scope=col>&lt;chr&gt;</th><th scope=col>&lt;dbl&gt;</th><th scope=col>&lt;int&gt;</th><th scope=col>&lt;dbl&gt;</th><th scope=col>&lt;chr&gt;</th></tr>\n",
       "</thead>\n",
       "<tbody>\n",
       "\t<tr><td>1</td><td>rmse</td><td>standard</td><td>39.45353291</td><td>5</td><td>12.07302462</td><td>Preprocessor1_Model01</td></tr>\n",
       "\t<tr><td>1</td><td>rsq </td><td>standard</td><td> 0.02880266</td><td>5</td><td> 0.02477363</td><td>Preprocessor1_Model01</td></tr>\n",
       "\t<tr><td>2</td><td>rmse</td><td>standard</td><td>22.05497891</td><td>5</td><td> 5.90217324</td><td>Preprocessor1_Model02</td></tr>\n",
       "\t<tr><td>⋮</td><td>⋮</td><td>⋮</td><td>⋮</td><td>⋮</td><td>⋮</td><td>⋮</td></tr>\n",
       "\t<tr><td> 9</td><td>rsq </td><td>standard</td><td> 0.01699750</td><td>5</td><td>0.010133494</td><td>Preprocessor1_Model09</td></tr>\n",
       "\t<tr><td>10</td><td>rmse</td><td>standard</td><td>21.07948198</td><td>5</td><td>6.309310468</td><td>Preprocessor1_Model10</td></tr>\n",
       "\t<tr><td>10</td><td>rsq </td><td>standard</td><td> 0.01761082</td><td>5</td><td>0.009540272</td><td>Preprocessor1_Model10</td></tr>\n",
       "</tbody>\n",
       "</table>\n"
      ],
      "text/latex": [
       "A tibble: 20 × 7\n",
       "\\begin{tabular}{lllllll}\n",
       " neighbors & .metric & .estimator & mean & n & std\\_err & .config\\\\\n",
       " <dbl> & <chr> & <chr> & <dbl> & <int> & <dbl> & <chr>\\\\\n",
       "\\hline\n",
       "\t 1 & rmse & standard & 39.45353291 & 5 & 12.07302462 & Preprocessor1\\_Model01\\\\\n",
       "\t 1 & rsq  & standard &  0.02880266 & 5 &  0.02477363 & Preprocessor1\\_Model01\\\\\n",
       "\t 2 & rmse & standard & 22.05497891 & 5 &  5.90217324 & Preprocessor1\\_Model02\\\\\n",
       "\t ⋮ & ⋮ & ⋮ & ⋮ & ⋮ & ⋮ & ⋮\\\\\n",
       "\t  9 & rsq  & standard &  0.01699750 & 5 & 0.010133494 & Preprocessor1\\_Model09\\\\\n",
       "\t 10 & rmse & standard & 21.07948198 & 5 & 6.309310468 & Preprocessor1\\_Model10\\\\\n",
       "\t 10 & rsq  & standard &  0.01761082 & 5 & 0.009540272 & Preprocessor1\\_Model10\\\\\n",
       "\\end{tabular}\n"
      ],
      "text/markdown": [
       "\n",
       "A tibble: 20 × 7\n",
       "\n",
       "| neighbors &lt;dbl&gt; | .metric &lt;chr&gt; | .estimator &lt;chr&gt; | mean &lt;dbl&gt; | n &lt;int&gt; | std_err &lt;dbl&gt; | .config &lt;chr&gt; |\n",
       "|---|---|---|---|---|---|---|\n",
       "| 1 | rmse | standard | 39.45353291 | 5 | 12.07302462 | Preprocessor1_Model01 |\n",
       "| 1 | rsq  | standard |  0.02880266 | 5 |  0.02477363 | Preprocessor1_Model01 |\n",
       "| 2 | rmse | standard | 22.05497891 | 5 |  5.90217324 | Preprocessor1_Model02 |\n",
       "| ⋮ | ⋮ | ⋮ | ⋮ | ⋮ | ⋮ | ⋮ |\n",
       "|  9 | rsq  | standard |  0.01699750 | 5 | 0.010133494 | Preprocessor1_Model09 |\n",
       "| 10 | rmse | standard | 21.07948198 | 5 | 6.309310468 | Preprocessor1_Model10 |\n",
       "| 10 | rsq  | standard |  0.01761082 | 5 | 0.009540272 | Preprocessor1_Model10 |\n",
       "\n"
      ],
      "text/plain": [
       "   neighbors .metric .estimator mean        n std_err     .config              \n",
       "1  1         rmse    standard   39.45353291 5 12.07302462 Preprocessor1_Model01\n",
       "2  1         rsq     standard    0.02880266 5  0.02477363 Preprocessor1_Model01\n",
       "3  2         rmse    standard   22.05497891 5  5.90217324 Preprocessor1_Model02\n",
       "⋮  ⋮         ⋮       ⋮          ⋮           ⋮ ⋮           ⋮                    \n",
       "18  9        rsq     standard    0.01699750 5 0.010133494 Preprocessor1_Model09\n",
       "19 10        rmse    standard   21.07948198 5 6.309310468 Preprocessor1_Model10\n",
       "20 10        rsq     standard    0.01761082 5 0.009540272 Preprocessor1_Model10"
      ]
     },
     "metadata": {},
     "output_type": "display_data"
    }
   ],
   "source": [
    "\n",
    "player_vfold <- vfold_cv(player_training, v = 5, strata = played_hours)\n",
    "\n",
    "player_workflow <- workflow() |>\n",
    "  add_recipe(player_recipe) |>\n",
    "  add_model(player_spec)\n",
    "player_workflow\n",
    "\n",
    "gridvals <- tibble(neighbors = seq(from = 1, to = 10, by = 1))\n",
    "\n",
    "player_results <- player_workflow |>\n",
    "  tune_grid(resamples = player_vfold, grid = gridvals) |>\n",
    "  collect_metrics()\n",
    "player_results"
   ]
  },
  {
   "cell_type": "code",
   "execution_count": null,
   "id": "3258201e-c937-41f1-96b3-d32e814851ba",
   "metadata": {},
   "outputs": [],
   "source": [
    " player_min <- player_results |>\n",
    "#    filter(.metric == \"rmse\") |>\n",
    "#    slice_min(std_err, n = 1)\n",
    "# player_min\n",
    "\n",
    "# k_min <- player_min |>\n",
    "#          pull(neighbors)\n",
    "\n",
    "# player_best_spec <- nearest_neighbor(weight_func = \"rectangular\", neighbors = k_min) |>\n",
    "#          set_engine(\"kknn\") |>\n",
    "#          set_mode(\"regression\")\n",
    "\n",
    "# player_best_fit <- workflow() |>\n",
    "#          add_recipe(player_recipe) |>\n",
    "#          add_model(player_best_spec) |>\n",
    "#          fit(data = player_training)"
   ]
  },
  {
   "cell_type": "code",
   "execution_count": null,
   "id": "34ca1c67-f458-4fcb-8470-e242b2249f42",
   "metadata": {},
   "outputs": [],
   "source": [
    "player_summary <- player_best_fit |>\n",
    "#           predict(player_testing) |>\n",
    "#           bind_cols(player_testing) |>\n",
    "#           metrics(truth = played_hours, estimate = .pred) \n",
    "\n",
    "# player_preds <- player_best_fit |>\n",
    "#   predict(player_training) |>\n",
    "#   bind_cols(player_training)\n",
    "\n",
    "# player_plot <- player_preds |>\n",
    "# ggplot(aes(x = max, y = played_hours)) + \n",
    "# geom_point(alpha = 0.4) +\n",
    "# geom_line(data = player_preds,\n",
    "#           mapping = aes(x = max, y = .pred), \n",
    "#           color = \"blue\",) +\n",
    "# labs(x = \"Factors\", \n",
    "#      y = \"Number of Hours Played\") +\n",
    "# ggtitle(\"Factors that Influence the Number of Hours Played\") +\n",
    "# theme(text = element_text(size = 15))\n",
    "\n",
    "\n",
    "# player_plot <- \n"
   ]
  }
 ],
 "metadata": {
  "kernelspec": {
   "display_name": "R",
   "language": "R",
   "name": "ir"
  },
  "language_info": {
   "codemirror_mode": "r",
   "file_extension": ".r",
   "mimetype": "text/x-r-source",
   "name": "R",
   "pygments_lexer": "r",
   "version": "4.3.3"
  }
 },
 "nbformat": 4,
 "nbformat_minor": 5
}
