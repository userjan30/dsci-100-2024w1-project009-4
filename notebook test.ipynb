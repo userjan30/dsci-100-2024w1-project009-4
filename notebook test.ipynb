{
 "cells": [
  {
   "cell_type": "code",
   "execution_count": null,
   "id": "27ce504f-aa7c-4374-96c3-400ca91948b0",
   "metadata": {},
   "outputs": [],
   "source": [
    "WHATTUPP"
   ]
  },
  {
   "cell_type": "code",
   "execution_count": null,
   "id": "bb0194be-f3f2-48d6-8a19-13418429ce96",
   "metadata": {},
   "outputs": [],
   "source": []
  }
 ],
 "metadata": {
  "kernelspec": {
   "display_name": "R",
   "language": "R",
   "name": "ir"
  },
  "language_info": {
   "codemirror_mode": "r",
   "file_extension": ".r",
   "mimetype": "text/x-r-source",
   "name": "R",
   "pygments_lexer": "r",
   "version": "4.3.3"
  }
 },
 "nbformat": 4,
 "nbformat_minor": 5
}
