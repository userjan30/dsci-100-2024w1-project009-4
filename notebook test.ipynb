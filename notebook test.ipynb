{
 "cells": [
  {
   "cell_type": "code",
   "execution_count": null,
   "id": "27ce504f-aa7c-4374-96c3-400ca91948b0",
   "metadata": {},
   "outputs": [],
   "source": [
    "WHATTUPP"
   ]
  },
  {
   "cell_type": "markdown",
   "id": "f0ab3270-a588-49d0-b296-265a120e1ee6",
   "metadata": {},
   "source": [
    "hi guys"
   ]
  },
  {
   "cell_type": "code",
   "execution_count": null,
   "id": "7ea6624b-a679-4701-9b65-eb7b00a085a7",
   "metadata": {},
   "outputs": [],
   "source": []
  }
 ],
 "metadata": {
  "kernelspec": {
   "display_name": "R",
   "language": "R",
   "name": "ir"
  },
  "language_info": {
   "codemirror_mode": "r",
   "file_extension": ".r",
   "mimetype": "text/x-r-source",
   "name": "R",
   "pygments_lexer": "r",
   "version": "4.3.3"
  }
 },
 "nbformat": 4,
 "nbformat_minor": 5
}
